{
 "cells": [
  {
   "cell_type": "code",
   "execution_count": 9,
   "metadata": {},
   "outputs": [
    {
     "name": "stdout",
     "output_type": "stream",
     "text": [
      "2.12.1\n"
     ]
    }
   ],
   "source": [
    "# Ensure compatibility\n",
    "from __future__ import absolute_import, division, print_function\n",
    "\n",
    "# Import packages\n",
    "import numpy as np\n",
    "import pandas as pd\n",
    "import matplotlib.pyplot as plt\n",
    "\n",
    "import seaborn as sns\n",
    "import matplotlib.pyplot as plt\n",
    "import pandas as pd\n",
    "\n",
    "# Import TensorFlow and Keras packages\n",
    "import tensorflow as tf\n",
    "from tensorflow import keras\n",
    "\n",
    "print(tf.__version__)"
   ]
  },
  {
   "cell_type": "code",
   "execution_count": 10,
   "metadata": {},
   "outputs": [],
   "source": [
    "import pandas as pd\n",
    "from sklearn.model_selection import train_test_split\n",
    "from sklearn.neighbors import KNeighborsClassifier\n",
    "from sklearn.metrics import accuracy_score, classification_report"
   ]
  },
  {
   "cell_type": "code",
   "execution_count": 11,
   "metadata": {},
   "outputs": [
    {
     "name": "stdout",
     "output_type": "stream",
     "text": [
      "Classification Error on Validation Set: 0.06699999999999995\n",
      "Predictions saved to prediction_file.csv\n"
     ]
    }
   ],
   "source": [
    "import pandas as pd\n",
    "from sklearn.model_selection import train_test_split\n",
    "from sklearn.ensemble import RandomForestClassifier\n",
    "from sklearn.metrics import accuracy_score\n",
    "\n",
    "# Load and prepare the training data\n",
    "df_train = pd.read_csv('option_train.csv')\n",
    "X = df_train.iloc[:, 1:].drop(columns=['Value', 'BS'])\n",
    "y = df_train['BS']\n",
    "\n",
    "# Split the data into a training set and a validation set\n",
    "X_train, X_val, y_train, y_val = train_test_split(X, y, test_size=0.2, random_state=42)\n",
    "\n",
    "# Initialize the RandomForest model\n",
    "model = RandomForestClassifier(n_estimators=100, random_state=42)\n",
    "\n",
    "# Train the model on the training subset\n",
    "model.fit(X_train, y_train)\n",
    "\n",
    "# Predict on the validation subset\n",
    "val_predictions = model.predict(X_val)\n",
    "\n",
    "# Calculate the classification error\n",
    "classification_error = 1 - accuracy_score(y_val, val_predictions)\n",
    "print(f\"Classification Error on Validation Set: {classification_error}\")\n",
    "\n",
    "# Re-train the model on the entire training dataset\n",
    "model.fit(X, y)\n",
    "\n",
    "# Load the test dataset\n",
    "df_test = pd.read_csv('option_test_nolabel.csv')\n",
    "X_test = df_test.iloc[:, 1:]\n",
    "\n",
    "# Predict on the test dataset\n",
    "test_predictions = model.predict(X_test)\n",
    "\n",
    "# Save the predictions to a CSV file\n",
    "predictions_df = pd.DataFrame(test_predictions, columns=['Predictions'])\n",
    "predictions_df.to_csv('prediction_file.csv', index=False)\n",
    "\n",
    "print(\"Predictions saved to prediction_file.csv\")\n"
   ]
  }
 ],
 "metadata": {
  "kernelspec": {
   "display_name": "Python 3",
   "language": "python",
   "name": "python3"
  },
  "language_info": {
   "codemirror_mode": {
    "name": "ipython",
    "version": 3
   },
   "file_extension": ".py",
   "mimetype": "text/x-python",
   "name": "python",
   "nbconvert_exporter": "python",
   "pygments_lexer": "ipython3",
   "version": "3.8.5"
  }
 },
 "nbformat": 4,
 "nbformat_minor": 4
}
