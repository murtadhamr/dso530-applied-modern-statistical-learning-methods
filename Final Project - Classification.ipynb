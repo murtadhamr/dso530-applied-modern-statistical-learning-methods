{
 "cells": [
  {
   "cell_type": "markdown",
   "id": "f4edcadb-f34b-4cbc-a593-d9da5399fe1f",
   "metadata": {},
   "source": [
    "# Regression"
   ]
  },
  {
   "cell_type": "markdown",
   "id": "3eaeeb81-327e-4f0c-9c19-e3fd66c202f2",
   "metadata": {
    "tags": []
   },
   "source": [
    "## Data loading"
   ]
  },
  {
   "cell_type": "code",
   "execution_count": 1,
   "id": "874a4b79-00a5-4ef0-b6bd-d3128e8b8ee8",
   "metadata": {
    "tags": []
   },
   "outputs": [],
   "source": [
    "import pandas as pd\n",
    "import numpy as np\n",
    "import matplotlib.pyplot as plt"
   ]
  },
  {
   "cell_type": "code",
   "execution_count": 2,
   "id": "f8f87cae-7d56-4260-a89e-e324a6efa244",
   "metadata": {
    "tags": []
   },
   "outputs": [
    {
     "data": {
      "text/html": [
       "<div>\n",
       "<style scoped>\n",
       "    .dataframe tbody tr th:only-of-type {\n",
       "        vertical-align: middle;\n",
       "    }\n",
       "\n",
       "    .dataframe tbody tr th {\n",
       "        vertical-align: top;\n",
       "    }\n",
       "\n",
       "    .dataframe thead th {\n",
       "        text-align: right;\n",
       "    }\n",
       "</style>\n",
       "<table border=\"1\" class=\"dataframe\">\n",
       "  <thead>\n",
       "    <tr style=\"text-align: right;\">\n",
       "      <th></th>\n",
       "      <th>Value</th>\n",
       "      <th>S</th>\n",
       "      <th>K</th>\n",
       "      <th>tau</th>\n",
       "      <th>r</th>\n",
       "      <th>BS</th>\n",
       "    </tr>\n",
       "  </thead>\n",
       "  <tbody>\n",
       "    <tr>\n",
       "      <th>0</th>\n",
       "      <td>348.500</td>\n",
       "      <td>1394.46</td>\n",
       "      <td>1050</td>\n",
       "      <td>0.128767</td>\n",
       "      <td>0.0116</td>\n",
       "      <td>Under</td>\n",
       "    </tr>\n",
       "    <tr>\n",
       "      <th>1</th>\n",
       "      <td>149.375</td>\n",
       "      <td>1432.25</td>\n",
       "      <td>1400</td>\n",
       "      <td>0.679452</td>\n",
       "      <td>0.0113</td>\n",
       "      <td>Under</td>\n",
       "    </tr>\n",
       "    <tr>\n",
       "      <th>2</th>\n",
       "      <td>294.500</td>\n",
       "      <td>1478.90</td>\n",
       "      <td>1225</td>\n",
       "      <td>0.443836</td>\n",
       "      <td>0.0112</td>\n",
       "      <td>Under</td>\n",
       "    </tr>\n",
       "    <tr>\n",
       "      <th>3</th>\n",
       "      <td>3.375</td>\n",
       "      <td>1369.89</td>\n",
       "      <td>1500</td>\n",
       "      <td>0.117808</td>\n",
       "      <td>0.0119</td>\n",
       "      <td>Over</td>\n",
       "    </tr>\n",
       "    <tr>\n",
       "      <th>4</th>\n",
       "      <td>84.000</td>\n",
       "      <td>1366.42</td>\n",
       "      <td>1350</td>\n",
       "      <td>0.298630</td>\n",
       "      <td>0.0119</td>\n",
       "      <td>Under</td>\n",
       "    </tr>\n",
       "  </tbody>\n",
       "</table>\n",
       "</div>"
      ],
      "text/plain": [
       "     Value        S     K       tau       r     BS\n",
       "0  348.500  1394.46  1050  0.128767  0.0116  Under\n",
       "1  149.375  1432.25  1400  0.679452  0.0113  Under\n",
       "2  294.500  1478.90  1225  0.443836  0.0112  Under\n",
       "3    3.375  1369.89  1500  0.117808  0.0119   Over\n",
       "4   84.000  1366.42  1350  0.298630  0.0119  Under"
      ]
     },
     "execution_count": 2,
     "metadata": {},
     "output_type": "execute_result"
    }
   ],
   "source": [
    "df_train = pd.read_csv('option_train.csv')\n",
    "df_train = df_train.iloc[:, 1:]\n",
    "df_train.head()"
   ]
  },
  {
   "cell_type": "code",
   "execution_count": 8,
   "id": "6ec087e3-9c73-4dff-969d-f9e61168bba3",
   "metadata": {
    "tags": []
   },
   "outputs": [
    {
     "name": "stdout",
     "output_type": "stream",
     "text": [
      "<class 'pandas.core.frame.DataFrame'>\n",
      "RangeIndex: 5000 entries, 0 to 4999\n",
      "Data columns (total 6 columns):\n",
      " #   Column  Non-Null Count  Dtype  \n",
      "---  ------  --------------  -----  \n",
      " 0   Value   5000 non-null   float64\n",
      " 1   S       5000 non-null   float64\n",
      " 2   K       5000 non-null   int64  \n",
      " 3   tau     5000 non-null   float64\n",
      " 4   r       5000 non-null   float64\n",
      " 5   BS      5000 non-null   object \n",
      "dtypes: float64(4), int64(1), object(1)\n",
      "memory usage: 234.5+ KB\n"
     ]
    }
   ],
   "source": [
    "df_train.info()"
   ]
  },
  {
   "cell_type": "code",
   "execution_count": 3,
   "id": "4db46fe0-f5bd-4144-bce9-04ab89277e4c",
   "metadata": {
    "tags": []
   },
   "outputs": [
    {
     "data": {
      "text/html": [
       "<div>\n",
       "<style scoped>\n",
       "    .dataframe tbody tr th:only-of-type {\n",
       "        vertical-align: middle;\n",
       "    }\n",
       "\n",
       "    .dataframe tbody tr th {\n",
       "        vertical-align: top;\n",
       "    }\n",
       "\n",
       "    .dataframe thead th {\n",
       "        text-align: right;\n",
       "    }\n",
       "</style>\n",
       "<table border=\"1\" class=\"dataframe\">\n",
       "  <thead>\n",
       "    <tr style=\"text-align: right;\">\n",
       "      <th></th>\n",
       "      <th>S</th>\n",
       "      <th>K</th>\n",
       "      <th>tau</th>\n",
       "      <th>r</th>\n",
       "    </tr>\n",
       "  </thead>\n",
       "  <tbody>\n",
       "    <tr>\n",
       "      <th>0</th>\n",
       "      <td>1409.28</td>\n",
       "      <td>1325</td>\n",
       "      <td>0.126027</td>\n",
       "      <td>0.0115</td>\n",
       "    </tr>\n",
       "    <tr>\n",
       "      <th>1</th>\n",
       "      <td>1505.97</td>\n",
       "      <td>1100</td>\n",
       "      <td>0.315068</td>\n",
       "      <td>0.0110</td>\n",
       "    </tr>\n",
       "    <tr>\n",
       "      <th>2</th>\n",
       "      <td>1409.57</td>\n",
       "      <td>1450</td>\n",
       "      <td>0.197260</td>\n",
       "      <td>0.0116</td>\n",
       "    </tr>\n",
       "    <tr>\n",
       "      <th>3</th>\n",
       "      <td>1407.81</td>\n",
       "      <td>1250</td>\n",
       "      <td>0.101370</td>\n",
       "      <td>0.0116</td>\n",
       "    </tr>\n",
       "    <tr>\n",
       "      <th>4</th>\n",
       "      <td>1494.50</td>\n",
       "      <td>1300</td>\n",
       "      <td>0.194521</td>\n",
       "      <td>0.0110</td>\n",
       "    </tr>\n",
       "  </tbody>\n",
       "</table>\n",
       "</div>"
      ],
      "text/plain": [
       "         S     K       tau       r\n",
       "0  1409.28  1325  0.126027  0.0115\n",
       "1  1505.97  1100  0.315068  0.0110\n",
       "2  1409.57  1450  0.197260  0.0116\n",
       "3  1407.81  1250  0.101370  0.0116\n",
       "4  1494.50  1300  0.194521  0.0110"
      ]
     },
     "execution_count": 3,
     "metadata": {},
     "output_type": "execute_result"
    }
   ],
   "source": [
    "df_test = pd.read_csv('option_test_nolabel.csv')\n",
    "df_test = df_test.iloc[:, 1:]\n",
    "df_test.head()"
   ]
  },
  {
   "cell_type": "code",
   "execution_count": 10,
   "id": "8af64c6b-97a8-4045-8972-ca67b8f3de07",
   "metadata": {
    "tags": []
   },
   "outputs": [
    {
     "name": "stdout",
     "output_type": "stream",
     "text": [
      "<class 'pandas.core.frame.DataFrame'>\n",
      "RangeIndex: 500 entries, 0 to 499\n",
      "Data columns (total 4 columns):\n",
      " #   Column  Non-Null Count  Dtype  \n",
      "---  ------  --------------  -----  \n",
      " 0   S       500 non-null    float64\n",
      " 1   K       500 non-null    int64  \n",
      " 2   tau     500 non-null    float64\n",
      " 3   r       500 non-null    float64\n",
      "dtypes: float64(3), int64(1)\n",
      "memory usage: 15.8 KB\n"
     ]
    }
   ],
   "source": [
    "df_test.info()"
   ]
  },
  {
   "cell_type": "markdown",
   "id": "bbb32c97-4313-452e-b9c0-071df557bd46",
   "metadata": {
    "tags": []
   },
   "source": [
    "## Exploratory Data Analysis"
   ]
  },
  {
   "cell_type": "markdown",
   "id": "d4e701c9-b505-44ef-8ed2-d199fbd67b75",
   "metadata": {
    "tags": []
   },
   "source": [
    "### Column S"
   ]
  },
  {
   "cell_type": "code",
   "execution_count": 11,
   "id": "bcf3a11a-fd22-40c6-883c-79a730fafd48",
   "metadata": {
    "tags": []
   },
   "outputs": [
    {
     "data": {
      "image/png": "[encoded data removed]",
      "text/plain": [
       "<Figure size 640x480 with 1 Axes>"
      ]
     },
     "metadata": {},
     "output_type": "display_data"
    },
    {
     "data": {
      "image/png": "[encoded data removed]",
      "text/plain": [
       "<Figure size 640x480 with 1 Axes>"
      ]
     },
     "metadata": {},
     "output_type": "display_data"
    }
   ],
   "source": [
    "import seaborn as sns\n",
    "\n",
    "# Density Plot\n",
    "sns.kdeplot(df_train['S'], fill=True)\n",
    "plt.title('Density Plot of Column S')\n",
    "plt.xlabel('Values')\n",
    "plt.show()\n",
    "\n",
    "# Boxplot to view outliers and overall spread\n",
    "sns.boxplot(x=df_train['S'])\n",
    "plt.title('Boxplot of Column S')\n",
    "plt.show()"
   ]
  },
  {
   "cell_type": "markdown",
   "id": "e1c80787-71d9-4f38-b9dc-892fbcd477c0",
   "metadata": {
    "tags": []
   },
   "source": [
    "### Column K"
   ]
  },
  {
   "cell_type": "code",
   "execution_count": 12,
   "id": "59dd93f9-e114-4f91-b7a1-323550c46a8d",
   "metadata": {
    "tags": []
   },
   "outputs": [
    {
     "data": {
      "image/png": "[encoded data removed]",
      "text/plain": [
       "<Figure size 640x480 with 1 Axes>"
      ]
     },
     "metadata": {},
     "output_type": "display_data"
    },
    {
     "data": {
      "image/png": "[encoded data removed]",
      "text/plain": [
       "<Figure size 640x480 with 1 Axes>"
      ]
     },
     "metadata": {},
     "output_type": "display_data"
    }
   ],
   "source": [
    "import seaborn as sns\n",
    "\n",
    "# Density Plot\n",
    "sns.kdeplot(df_train['K'], fill=True)\n",
    "plt.title('Density Plot of Column K')\n",
    "plt.xlabel('Values')\n",
    "plt.show()\n",
    "\n",
    "# Boxplot to view outliers and overall spread\n",
    "sns.boxplot(x=df_train['K'])\n",
    "plt.title('Boxplot of Column K')\n",
    "plt.show()"
   ]
  },
  {
   "cell_type": "markdown",
   "id": "2e160ad1-d6bd-48d8-8e9a-1fe1f5418b51",
   "metadata": {
    "tags": []
   },
   "source": [
    "### Column tau"
   ]
  },
  {
   "cell_type": "code",
   "execution_count": 13,
   "id": "69f794a6-d4f8-40b9-a7fb-81c7e243d735",
   "metadata": {
    "tags": []
   },
   "outputs": [
    {
     "data": {
      "image/png": "[encoded data removed]",
      "text/plain": [
       "<Figure size 640x480 with 1 Axes>"
      ]
     },
     "metadata": {},
     "output_type": "display_data"
    },
    {
     "data": {
      "image/png": "[encoded data removed]",
      "text/plain": [
       "<Figure size 640x480 with 1 Axes>"
      ]
     },
     "metadata": {},
     "output_type": "display_data"
    }
   ],
   "source": [
    "import seaborn as sns\n",
    "\n",
    "# Density Plot\n",
    "sns.kdeplot(df_train['tau'], fill=True)\n",
    "plt.title('Density Plot of Column tau')\n",
    "plt.xlabel('Values')\n",
    "plt.show()\n",
    "\n",
    "# Boxplot to view outliers and overall spread\n",
    "sns.boxplot(x=df_train['tau'])\n",
    "plt.title('Boxplot of Column tau')\n",
    "plt.show()"
   ]
  },
  {
   "cell_type": "markdown",
   "id": "89077032-eef4-4060-a9ac-622ce4ecf14e",
   "metadata": {
    "tags": []
   },
   "source": [
    "### Column r"
   ]
  },
  {
   "cell_type": "code",
   "execution_count": 14,
   "id": "a4b30757-b61b-4b27-9147-88f167a3aadf",
   "metadata": {
    "tags": []
   },
   "outputs": [
    {
     "data": {
      "image/png": "[encoded data removed]",
      "text/plain": [
       "<Figure size 640x480 with 1 Axes>"
      ]
     },
     "metadata": {},
     "output_type": "display_data"
    },
    {
     "data": {
      "image/png": "[encoded data removed]",
      "text/plain": [
       "<Figure size 640x480 with 1 Axes>"
      ]
     },
     "metadata": {},
     "output_type": "display_data"
    }
   ],
   "source": [
    "import seaborn as sns\n",
    "\n",
    "# Density Plot\n",
    "sns.kdeplot(df_train['r'], fill=True)\n",
    "plt.title('Density Plot of Column r')\n",
    "plt.xlabel('Values')\n",
    "plt.show()\n",
    "\n",
    "# Boxplot to view outliers and overall spread\n",
    "sns.boxplot(x=df_train['r'])\n",
    "plt.title('Boxplot of Column r')\n",
    "plt.show()"
   ]
  },
  {
   "cell_type": "markdown",
   "id": "405af93a-4e45-461f-800f-7137cc804bb1",
   "metadata": {
    "tags": []
   },
   "source": [
    "### Correlation"
   ]
  },
  {
   "cell_type": "code",
   "execution_count": 66,
   "id": "5741d855-c27d-411f-8f18-3230e44acbcc",
   "metadata": {
    "tags": []
   },
   "outputs": [
    {
     "data": {
      "image/png": "[encoded data removed]",
      "text/plain": [
       "<Figure size 1000x800 with 2 Axes>"
      ]
     },
     "metadata": {},
     "output_type": "display_data"
    }
   ],
   "source": [
    "import matplotlib.pyplot as plt\n",
    "import seaborn as sns\n",
    "import pandas as pd  # Assuming your data is in a pandas DataFrame\n",
    "\n",
    "# Assuming 'data' is your DataFrame\n",
    "correlation_matrix = df_train.drop(columns=['BS']).corr()\n",
    "\n",
    "# Set up the matplotlib figure\n",
    "plt.figure(figsize=(10, 8))\n",
    "\n",
    "# Draw the heatmap with the mask and correct aspect ratio\n",
    "sns.heatmap(correlation_matrix, annot=True, fmt=\".2f\", cmap='coolwarm', square=True, linewidths=.5, cbar_kws={\"shrink\": .5})\n",
    "\n",
    "# Adding title\n",
    "plt.title('Correlation Heatmap')\n",
    "\n",
    "# Show plot\n",
    "plt.show()"
   ]
  },
  {
   "cell_type": "markdown",
   "id": "ad6ef390-8ce9-4c49-a7be-d1ecb83daf6d",
   "metadata": {},
   "source": [
    "## Data Preprocessing"
   ]
  },
  {
   "cell_type": "markdown",
   "id": "8fb4d9dd-3a05-4c6a-8e9e-f2024ce96232",
   "metadata": {
    "tags": []
   },
   "source": [
    "### Data Standardization"
   ]
  },
  {
   "cell_type": "code",
   "execution_count": 15,
   "id": "9cab1031-d502-465a-82a5-7b0246737274",
   "metadata": {
    "tags": []
   },
   "outputs": [
    {
     "data": {
      "text/plain": [
       "Index(['Value', 'S', 'K', 'tau', 'r', 'BS'], dtype='object')"
      ]
     },
     "execution_count": 15,
     "metadata": {},
     "output_type": "execute_result"
    }
   ],
   "source": [
    "df_train.columns"
   ]
  },
  {
   "cell_type": "code",
   "execution_count": 4,
   "id": "ee413400-006d-4e76-8bf2-45f6d57dce1c",
   "metadata": {
    "tags": []
   },
   "outputs": [
    {
     "data": {
      "text/html": [
       "<div>\n",
       "<style scoped>\n",
       "    .dataframe tbody tr th:only-of-type {\n",
       "        vertical-align: middle;\n",
       "    }\n",
       "\n",
       "    .dataframe tbody tr th {\n",
       "        vertical-align: top;\n",
       "    }\n",
       "\n",
       "    .dataframe thead th {\n",
       "        text-align: right;\n",
       "    }\n",
       "</style>\n",
       "<table border=\"1\" class=\"dataframe\">\n",
       "  <thead>\n",
       "    <tr style=\"text-align: right;\">\n",
       "      <th></th>\n",
       "      <th>S</th>\n",
       "      <th>K</th>\n",
       "      <th>tau</th>\n",
       "      <th>r</th>\n",
       "    </tr>\n",
       "  </thead>\n",
       "  <tbody>\n",
       "    <tr>\n",
       "      <th>0</th>\n",
       "      <td>1394.46</td>\n",
       "      <td>1050</td>\n",
       "      <td>0.128767</td>\n",
       "      <td>0.0116</td>\n",
       "    </tr>\n",
       "    <tr>\n",
       "      <th>1</th>\n",
       "      <td>1432.25</td>\n",
       "      <td>1400</td>\n",
       "      <td>0.679452</td>\n",
       "      <td>0.0113</td>\n",
       "    </tr>\n",
       "    <tr>\n",
       "      <th>2</th>\n",
       "      <td>1478.90</td>\n",
       "      <td>1225</td>\n",
       "      <td>0.443836</td>\n",
       "      <td>0.0112</td>\n",
       "    </tr>\n",
       "    <tr>\n",
       "      <th>3</th>\n",
       "      <td>1369.89</td>\n",
       "      <td>1500</td>\n",
       "      <td>0.117808</td>\n",
       "      <td>0.0119</td>\n",
       "    </tr>\n",
       "    <tr>\n",
       "      <th>4</th>\n",
       "      <td>1366.42</td>\n",
       "      <td>1350</td>\n",
       "      <td>0.298630</td>\n",
       "      <td>0.0119</td>\n",
       "    </tr>\n",
       "    <tr>\n",
       "      <th>...</th>\n",
       "      <td>...</td>\n",
       "      <td>...</td>\n",
       "      <td>...</td>\n",
       "      <td>...</td>\n",
       "    </tr>\n",
       "    <tr>\n",
       "      <th>4995</th>\n",
       "      <td>1465.15</td>\n",
       "      <td>1175</td>\n",
       "      <td>0.424658</td>\n",
       "      <td>0.0111</td>\n",
       "    </tr>\n",
       "    <tr>\n",
       "      <th>4996</th>\n",
       "      <td>1480.87</td>\n",
       "      <td>1480</td>\n",
       "      <td>0.101370</td>\n",
       "      <td>0.0111</td>\n",
       "    </tr>\n",
       "    <tr>\n",
       "      <th>4997</th>\n",
       "      <td>1356.56</td>\n",
       "      <td>1500</td>\n",
       "      <td>0.673973</td>\n",
       "      <td>0.0120</td>\n",
       "    </tr>\n",
       "    <tr>\n",
       "      <th>4998</th>\n",
       "      <td>1333.36</td>\n",
       "      <td>1200</td>\n",
       "      <td>0.309589</td>\n",
       "      <td>0.0122</td>\n",
       "    </tr>\n",
       "    <tr>\n",
       "      <th>4999</th>\n",
       "      <td>1480.87</td>\n",
       "      <td>1475</td>\n",
       "      <td>0.504110</td>\n",
       "      <td>0.0111</td>\n",
       "    </tr>\n",
       "  </tbody>\n",
       "</table>\n",
       "<p>5000 rows × 4 columns</p>\n",
       "</div>"
      ],
      "text/plain": [
       "            S     K       tau       r\n",
       "0     1394.46  1050  0.128767  0.0116\n",
       "1     1432.25  1400  0.679452  0.0113\n",
       "2     1478.90  1225  0.443836  0.0112\n",
       "3     1369.89  1500  0.117808  0.0119\n",
       "4     1366.42  1350  0.298630  0.0119\n",
       "...       ...   ...       ...     ...\n",
       "4995  1465.15  1175  0.424658  0.0111\n",
       "4996  1480.87  1480  0.101370  0.0111\n",
       "4997  1356.56  1500  0.673973  0.0120\n",
       "4998  1333.36  1200  0.309589  0.0122\n",
       "4999  1480.87  1475  0.504110  0.0111\n",
       "\n",
       "[5000 rows x 4 columns]"
      ]
     },
     "execution_count": 4,
     "metadata": {},
     "output_type": "execute_result"
    }
   ],
   "source": [
    "X = df_train.drop(columns=['Value', 'BS'])\n",
    "X"
   ]
  },
  {
   "cell_type": "code",
   "execution_count": 5,
   "id": "90be701f-8159-4d61-8ef5-4499277f01c8",
   "metadata": {
    "tags": []
   },
   "outputs": [
    {
     "data": {
      "text/plain": [
       "0       348.500\n",
       "1       149.375\n",
       "2       294.500\n",
       "3         3.375\n",
       "4        84.000\n",
       "         ...   \n",
       "4995    325.250\n",
       "4996     36.000\n",
       "4997     90.000\n",
       "4998    175.875\n",
       "4999    106.375\n",
       "Name: Value, Length: 5000, dtype: float64"
      ]
     },
     "execution_count": 5,
     "metadata": {},
     "output_type": "execute_result"
    }
   ],
   "source": [
    "y = df_train['Value']\n",
    "y"
   ]
  },
  {
   "cell_type": "code",
   "execution_count": 6,
   "id": "ea6068c8-f0d4-4805-9795-a95dd715abd5",
   "metadata": {
    "tags": []
   },
   "outputs": [],
   "source": [
    "from sklearn.preprocessing import StandardScaler\n",
    "\n",
    "scaler = StandardScaler(with_mean=True, \n",
    "                        with_std=True,\n",
    "                        copy=True)\n",
    "\n",
    "scaler.fit(X)\n",
    "\n",
    "X_std = scaler.transform(X)"
   ]
  },
  {
   "cell_type": "code",
   "execution_count": 7,
   "id": "65a306be-3965-4c0d-9569-d8197c76022c",
   "metadata": {
    "tags": []
   },
   "outputs": [
    {
     "data": {
      "text/plain": [
       "S      1.0001\n",
       "K      1.0001\n",
       "tau    1.0001\n",
       "r      1.0001\n",
       "dtype: float64"
      ]
     },
     "execution_count": 7,
     "metadata": {},
     "output_type": "execute_result"
    }
   ],
   "source": [
    "feature_std = pd.DataFrame(X_std, columns=X.columns);\n",
    "\n",
    "feature_std.std()"
   ]
  },
  {
   "cell_type": "markdown",
   "id": "c31aa119-05e2-4242-befb-c72a89a2820e",
   "metadata": {
    "tags": []
   },
   "source": [
    "### Modeling"
   ]
  },
  {
   "cell_type": "code",
   "execution_count": 8,
   "id": "d91c86fb-d091-4a40-9eed-0ff6d7dafdc0",
   "metadata": {
    "tags": []
   },
   "outputs": [
    {
     "name": "stdout",
     "output_type": "stream",
     "text": [
      "[CV] END .................................................... total time=   0.0s\n",
      "[CV] END .................................................... total time=   0.0s\n",
      "[CV] END .................................................... total time=   0.0s\n",
      "[CV] END .................................................... total time=   0.0s\n",
      "[CV] END .................................................... total time=   0.0s\n",
      "[CV] END .................................................... total time=   0.0s\n",
      "[CV] END .................................................... total time=   0.0s\n",
      "[CV] END .................................................... total time=   0.0s\n",
      "[CV] END .................................................... total time=   0.0s\n",
      "[CV] END .................................................... total time=   0.0s\n",
      "Model: LinearRegression()\n",
      "Mean R-squared: 0.9244138358730758\n",
      "\n",
      "[CV] END .................................................... total time=   0.6s\n",
      "[CV] END .................................................... total time=   0.5s\n",
      "[CV] END .................................................... total time=   0.5s\n",
      "[CV] END .................................................... total time=   0.5s\n",
      "[CV] END .................................................... total time=   0.5s\n",
      "[CV] END .................................................... total time=   0.5s\n",
      "[CV] END .................................................... total time=   0.5s\n",
      "[CV] END .................................................... total time=   0.5s\n",
      "[CV] END .................................................... total time=   0.5s\n",
      "[CV] END .................................................... total time=   0.5s\n",
      "Model: RandomForestRegressor(random_state=42)\n",
      "Mean R-squared: 0.9966829364412189\n",
      "\n",
      "[CV] END .................................................... total time=   0.4s\n",
      "[CV] END .................................................... total time=   0.4s\n",
      "[CV] END .................................................... total time=   0.4s\n",
      "[CV] END .................................................... total time=   0.4s\n",
      "[CV] END .................................................... total time=   0.4s\n",
      "[CV] END .................................................... total time=   0.4s\n",
      "[CV] END .................................................... total time=   0.4s\n",
      "[CV] END .................................................... total time=   0.4s\n",
      "[CV] END .................................................... total time=   0.4s\n",
      "[CV] END .................................................... total time=   0.4s\n",
      "Model: SVR()\n",
      "Mean R-squared: 0.5915042929412553\n",
      "\n",
      "[CV] END .................................................... total time=   0.0s\n",
      "[CV] END .................................................... total time=   0.0s\n",
      "[CV] END .................................................... total time=   0.0s\n",
      "[CV] END .................................................... total time=   0.0s\n",
      "[CV] END .................................................... total time=   0.0s\n",
      "[CV] END .................................................... total time=   0.0s\n",
      "[CV] END .................................................... total time=   0.0s\n",
      "[CV] END .................................................... total time=   0.0s\n",
      "[CV] END .................................................... total time=   0.0s\n",
      "[CV] END .................................................... total time=   0.0s\n",
      "Model: KNeighborsRegressor()\n",
      "Mean R-squared: 0.9482982706182936\n",
      "\n"
     ]
    }
   ],
   "source": [
    "from sklearn.model_selection import KFold, cross_val_score\n",
    "from sklearn.linear_model import LinearRegression\n",
    "from sklearn.ensemble import RandomForestRegressor\n",
    "from sklearn.svm import SVR\n",
    "from sklearn.neighbors import KNeighborsRegressor\n",
    "\n",
    "model_list = [LinearRegression(), \n",
    "              RandomForestRegressor(n_estimators=100, random_state=42), \n",
    "              SVR(kernel='rbf'),\n",
    "              KNeighborsRegressor(n_neighbors=5)\n",
    "             ]\n",
    "\n",
    "for model in model_list:\n",
    "    \n",
    "    # Initialize the linear regression model\n",
    "    model = model\n",
    "\n",
    "    # Setup cross-validation (using 5 folds here)\n",
    "    kf = KFold(n_splits=10, shuffle=True, random_state=42)\n",
    "\n",
    "    # Perform cross-validation using R-squared as the metric\n",
    "    r_squared_scores = cross_val_score(model, X, y, cv=kf, scoring='r2', verbose=2)\n",
    "\n",
    "    # Display the R-squared scores for each fold and the mean R-squared\n",
    "    print(f\"Model: {model}\")\n",
    "    print(f\"Mean R-squared: {np.mean(r_squared_scores)}\\n\")\n"
   ]
  },
  {
   "cell_type": "code",
   "execution_count": null,
   "id": "9ed8f999-e45c-4bb4-9089-0d3ea2f062aa",
   "metadata": {
    "tags": []
   },
   "outputs": [
    {
     "name": "stdout",
     "output_type": "stream",
     "text": [
      "Fitting 10 folds for each of 1 candidates, totalling 10 fits\n",
      "[CV] END .................................................... total time=   0.0s\n",
      "[CV] END .................................................... total time=   0.0s\n",
      "[CV] END .................................................... total time=   0.0s\n",
      "[CV] END .................................................... total time=   0.0s\n",
      "[CV] END .................................................... total time=   0.0s\n",
      "[CV] END .................................................... total time=   0.0s\n",
      "[CV] END .................................................... total time=   0.0s\n",
      "[CV] END .................................................... total time=   0.0s\n",
      "[CV] END .................................................... total time=   0.0s\n",
      "[CV] END .................................................... total time=   0.0s\n",
      "Model: LinearRegression\n",
      "Best parameters: {}\n",
      "Best mean R-squared: 0.9244138358730758\n",
      "\n",
      "Fitting 10 folds for each of 9 candidates, totalling 90 fits\n",
      "[CV] END .................max_features=auto, n_estimators=50; total time=   0.0s\n",
      "[CV] END .................max_features=auto, n_estimators=50; total time=   0.0s\n",
      "[CV] END .................max_features=auto, n_estimators=50; total time=   0.0s\n",
      "[CV] END .................max_features=auto, n_estimators=50; total time=   0.0s\n",
      "[CV] END .................max_features=auto, n_estimators=50; total time=   0.0s\n",
      "[CV] END .................max_features=auto, n_estimators=50; total time=   0.0s\n",
      "[CV] END .................max_features=auto, n_estimators=50; total time=   0.0s\n",
      "[CV] END .................max_features=auto, n_estimators=50; total time=   0.0s\n",
      "[CV] END .................max_features=auto, n_estimators=50; total time=   0.0s\n",
      "[CV] END .................max_features=auto, n_estimators=50; total time=   0.0s\n",
      "[CV] END ................max_features=auto, n_estimators=100; total time=   0.0s\n",
      "[CV] END ................max_features=auto, n_estimators=100; total time=   0.0s\n",
      "[CV] END ................max_features=auto, n_estimators=100; total time=   0.0s\n",
      "[CV] END ................max_features=auto, n_estimators=100; total time=   0.0s\n",
      "[CV] END ................max_features=auto, n_estimators=100; total time=   0.0s\n",
      "[CV] END ................max_features=auto, n_estimators=100; total time=   0.0s\n",
      "[CV] END ................max_features=auto, n_estimators=100; total time=   0.0s\n",
      "[CV] END ................max_features=auto, n_estimators=100; total time=   0.0s\n",
      "[CV] END ................max_features=auto, n_estimators=100; total time=   0.0s\n",
      "[CV] END ................max_features=auto, n_estimators=100; total time=   0.0s\n",
      "[CV] END ................max_features=auto, n_estimators=200; total time=   0.0s\n",
      "[CV] END ................max_features=auto, n_estimators=200; total time=   0.0s\n",
      "[CV] END ................max_features=auto, n_estimators=200; total time=   0.0s\n",
      "[CV] END ................max_features=auto, n_estimators=200; total time=   0.0s\n",
      "[CV] END ................max_features=auto, n_estimators=200; total time=   0.0s\n",
      "[CV] END ................max_features=auto, n_estimators=200; total time=   0.0s\n",
      "[CV] END ................max_features=auto, n_estimators=200; total time=   0.0s\n",
      "[CV] END ................max_features=auto, n_estimators=200; total time=   0.0s\n",
      "[CV] END ................max_features=auto, n_estimators=200; total time=   0.0s\n",
      "[CV] END ................max_features=auto, n_estimators=200; total time=   0.0s\n",
      "[CV] END .................max_features=sqrt, n_estimators=50; total time=   0.2s\n",
      "[CV] END .................max_features=sqrt, n_estimators=50; total time=   0.2s\n",
      "[CV] END .................max_features=sqrt, n_estimators=50; total time=   0.2s\n",
      "[CV] END .................max_features=sqrt, n_estimators=50; total time=   0.2s\n",
      "[CV] END .................max_features=sqrt, n_estimators=50; total time=   0.2s\n",
      "[CV] END .................max_features=sqrt, n_estimators=50; total time=   0.2s\n",
      "[CV] END .................max_features=sqrt, n_estimators=50; total time=   0.2s\n",
      "[CV] END .................max_features=sqrt, n_estimators=50; total time=   0.2s\n",
      "[CV] END .................max_features=sqrt, n_estimators=50; total time=   0.2s\n",
      "[CV] END .................max_features=sqrt, n_estimators=50; total time=   0.2s\n",
      "[CV] END ................max_features=sqrt, n_estimators=100; total time=   0.3s\n",
      "[CV] END ................max_features=sqrt, n_estimators=100; total time=   0.3s\n",
      "[CV] END ................max_features=sqrt, n_estimators=100; total time=   0.3s\n",
      "[CV] END ................max_features=sqrt, n_estimators=100; total time=   0.3s\n",
      "[CV] END ................max_features=sqrt, n_estimators=100; total time=   0.3s\n",
      "[CV] END ................max_features=sqrt, n_estimators=100; total time=   0.3s\n",
      "[CV] END ................max_features=sqrt, n_estimators=100; total time=   0.3s\n",
      "[CV] END ................max_features=sqrt, n_estimators=100; total time=   0.3s\n",
      "[CV] END ................max_features=sqrt, n_estimators=100; total time=   0.3s\n",
      "[CV] END ................max_features=sqrt, n_estimators=100; total time=   0.3s\n",
      "[CV] END ................max_features=sqrt, n_estimators=200; total time=   0.6s\n",
      "[CV] END ................max_features=sqrt, n_estimators=200; total time=   0.6s\n",
      "[CV] END ................max_features=sqrt, n_estimators=200; total time=   0.6s\n",
      "[CV] END ................max_features=sqrt, n_estimators=200; total time=   0.6s\n",
      "[CV] END ................max_features=sqrt, n_estimators=200; total time=   0.6s\n",
      "[CV] END ................max_features=sqrt, n_estimators=200; total time=   0.6s\n",
      "[CV] END ................max_features=sqrt, n_estimators=200; total time=   0.6s\n",
      "[CV] END ................max_features=sqrt, n_estimators=200; total time=   0.7s\n",
      "[CV] END ................max_features=sqrt, n_estimators=200; total time=   0.6s\n",
      "[CV] END ................max_features=sqrt, n_estimators=200; total time=   0.6s\n",
      "[CV] END .................max_features=log2, n_estimators=50; total time=   0.2s\n",
      "[CV] END .................max_features=log2, n_estimators=50; total time=   0.2s\n",
      "[CV] END .................max_features=log2, n_estimators=50; total time=   0.2s\n",
      "[CV] END .................max_features=log2, n_estimators=50; total time=   0.2s\n",
      "[CV] END .................max_features=log2, n_estimators=50; total time=   0.2s\n",
      "[CV] END .................max_features=log2, n_estimators=50; total time=   0.2s\n",
      "[CV] END .................max_features=log2, n_estimators=50; total time=   0.2s\n",
      "[CV] END .................max_features=log2, n_estimators=50; total time=   0.2s\n",
      "[CV] END .................max_features=log2, n_estimators=50; total time=   0.2s\n",
      "[CV] END .................max_features=log2, n_estimators=50; total time=   0.2s\n",
      "[CV] END ................max_features=log2, n_estimators=100; total time=   0.3s\n",
      "[CV] END ................max_features=log2, n_estimators=100; total time=   0.3s\n",
      "[CV] END ................max_features=log2, n_estimators=100; total time=   0.3s\n",
      "[CV] END ................max_features=log2, n_estimators=100; total time=   0.3s\n",
      "[CV] END ................max_features=log2, n_estimators=100; total time=   0.3s\n",
      "[CV] END ................max_features=log2, n_estimators=100; total time=   0.3s\n",
      "[CV] END ................max_features=log2, n_estimators=100; total time=   0.3s\n",
      "[CV] END ................max_features=log2, n_estimators=100; total time=   0.3s\n",
      "[CV] END ................max_features=log2, n_estimators=100; total time=   0.3s\n",
      "[CV] END ................max_features=log2, n_estimators=100; total time=   0.3s\n",
      "[CV] END ................max_features=log2, n_estimators=200; total time=   0.6s\n",
      "[CV] END ................max_features=log2, n_estimators=200; total time=   0.6s\n",
      "[CV] END ................max_features=log2, n_estimators=200; total time=   0.6s\n",
      "[CV] END ................max_features=log2, n_estimators=200; total time=   0.6s\n",
      "[CV] END ................max_features=log2, n_estimators=200; total time=   0.6s\n",
      "[CV] END ................max_features=log2, n_estimators=200; total time=   0.7s\n",
      "[CV] END ................max_features=log2, n_estimators=200; total time=   0.6s\n",
      "[CV] END ................max_features=log2, n_estimators=200; total time=   0.7s\n",
      "[CV] END ................max_features=log2, n_estimators=200; total time=   0.6s\n",
      "[CV] END ................max_features=log2, n_estimators=200; total time=   0.6s\n"
     ]
    },
    {
     "name": "stderr",
     "output_type": "stream",
     "text": [
      "/Users/murtadha.ramadhan/anaconda3/envs/py3k/lib/python3.11/site-packages/sklearn/model_selection/_validation.py:425: FitFailedWarning: \n",
      "30 fits failed out of a total of 90.\n",
      "The score on these train-test partitions for these parameters will be set to nan.\n",
      "If these failures are not expected, you can try to debug them by setting error_score='raise'.\n",
      "\n",
      "Below are more details about the failures:\n",
      "--------------------------------------------------------------------------------\n",
      "30 fits failed with the following error:\n",
      "Traceback (most recent call last):\n",
      "  File \"/Users/murtadha.ramadhan/anaconda3/envs/py3k/lib/python3.11/site-packages/sklearn/model_selection/_validation.py\", line 729, in _fit_and_score\n",
      "    estimator.fit(X_train, y_train, **fit_params)\n",
      "  File \"/Users/murtadha.ramadhan/anaconda3/envs/py3k/lib/python3.11/site-packages/sklearn/base.py\", line 1145, in wrapper\n",
      "    estimator._validate_params()\n",
      "  File \"/Users/murtadha.ramadhan/anaconda3/envs/py3k/lib/python3.11/site-packages/sklearn/base.py\", line 638, in _validate_params\n",
      "    validate_parameter_constraints(\n",
      "  File \"/Users/murtadha.ramadhan/anaconda3/envs/py3k/lib/python3.11/site-packages/sklearn/utils/_param_validation.py\", line 96, in validate_parameter_constraints\n",
      "    raise InvalidParameterError(\n",
      "sklearn.utils._param_validation.InvalidParameterError: The 'max_features' parameter of RandomForestRegressor must be an int in the range [1, inf), a float in the range (0.0, 1.0], a str among {'log2', 'sqrt'} or None. Got 'auto' instead.\n",
      "\n",
      "  warnings.warn(some_fits_failed_message, FitFailedWarning)\n",
      "/Users/murtadha.ramadhan/anaconda3/envs/py3k/lib/python3.11/site-packages/sklearn/model_selection/_search.py:979: UserWarning: One or more of the test scores are non-finite: [       nan        nan        nan 0.99618383 0.99643354 0.99650236\n",
      " 0.99618383 0.99643354 0.99650236]\n",
      "  warnings.warn(\n"
     ]
    },
    {
     "name": "stdout",
     "output_type": "stream",
     "text": [
      "Model: RandomForestRegressor\n",
      "Best parameters: {'max_features': 'sqrt', 'n_estimators': 200}\n",
      "Best mean R-squared: 0.9965023609678637\n",
      "\n",
      "Fitting 10 folds for each of 12 candidates, totalling 120 fits\n",
      "[CV] END .....................C=0.1, gamma=scale, kernel=rbf; total time=   0.4s\n",
      "[CV] END .....................C=0.1, gamma=scale, kernel=rbf; total time=   0.4s\n",
      "[CV] END .....................C=0.1, gamma=scale, kernel=rbf; total time=   0.4s\n",
      "[CV] END .....................C=0.1, gamma=scale, kernel=rbf; total time=   0.4s\n",
      "[CV] END .....................C=0.1, gamma=scale, kernel=rbf; total time=   0.4s\n",
      "[CV] END .....................C=0.1, gamma=scale, kernel=rbf; total time=   0.4s\n",
      "[CV] END .....................C=0.1, gamma=scale, kernel=rbf; total time=   0.4s\n",
      "[CV] END .....................C=0.1, gamma=scale, kernel=rbf; total time=   0.4s\n",
      "[CV] END .....................C=0.1, gamma=scale, kernel=rbf; total time=   0.4s\n",
      "[CV] END .....................C=0.1, gamma=scale, kernel=rbf; total time=   0.4s\n",
      "[CV] END ..................C=0.1, gamma=scale, kernel=linear; total time=   2.0s\n",
      "[CV] END ..................C=0.1, gamma=scale, kernel=linear; total time=   2.4s\n",
      "[CV] END ..................C=0.1, gamma=scale, kernel=linear; total time=   1.5s\n",
      "[CV] END ..................C=0.1, gamma=scale, kernel=linear; total time=   1.5s\n",
      "[CV] END ..................C=0.1, gamma=scale, kernel=linear; total time=   1.3s\n",
      "[CV] END ..................C=0.1, gamma=scale, kernel=linear; total time=   1.7s\n",
      "[CV] END ..................C=0.1, gamma=scale, kernel=linear; total time=   1.6s\n",
      "[CV] END ..................C=0.1, gamma=scale, kernel=linear; total time=   1.5s\n",
      "[CV] END ..................C=0.1, gamma=scale, kernel=linear; total time=   1.9s\n",
      "[CV] END ..................C=0.1, gamma=scale, kernel=linear; total time=   1.5s\n",
      "[CV] END ......................C=0.1, gamma=auto, kernel=rbf; total time=   0.3s\n",
      "[CV] END ......................C=0.1, gamma=auto, kernel=rbf; total time=   0.4s\n",
      "[CV] END ......................C=0.1, gamma=auto, kernel=rbf; total time=   0.4s\n",
      "[CV] END ......................C=0.1, gamma=auto, kernel=rbf; total time=   0.3s\n",
      "[CV] END ......................C=0.1, gamma=auto, kernel=rbf; total time=   0.3s\n",
      "[CV] END ......................C=0.1, gamma=auto, kernel=rbf; total time=   0.3s\n",
      "[CV] END ......................C=0.1, gamma=auto, kernel=rbf; total time=   0.3s\n",
      "[CV] END ......................C=0.1, gamma=auto, kernel=rbf; total time=   0.3s\n",
      "[CV] END ......................C=0.1, gamma=auto, kernel=rbf; total time=   0.4s\n",
      "[CV] END ......................C=0.1, gamma=auto, kernel=rbf; total time=   0.4s\n",
      "[CV] END ...................C=0.1, gamma=auto, kernel=linear; total time=   1.9s\n",
      "[CV] END ...................C=0.1, gamma=auto, kernel=linear; total time=   1.9s\n",
      "[CV] END ...................C=0.1, gamma=auto, kernel=linear; total time=   1.5s\n",
      "[CV] END ...................C=0.1, gamma=auto, kernel=linear; total time=   1.5s\n",
      "[CV] END ...................C=0.1, gamma=auto, kernel=linear; total time=   1.3s\n",
      "[CV] END ...................C=0.1, gamma=auto, kernel=linear; total time=   1.7s\n",
      "[CV] END ...................C=0.1, gamma=auto, kernel=linear; total time=   1.6s\n",
      "[CV] END ...................C=0.1, gamma=auto, kernel=linear; total time=   1.5s\n",
      "[CV] END ...................C=0.1, gamma=auto, kernel=linear; total time=   1.8s\n",
      "[CV] END ...................C=0.1, gamma=auto, kernel=linear; total time=   1.5s\n",
      "[CV] END .......................C=1, gamma=scale, kernel=rbf; total time=   0.4s\n",
      "[CV] END .......................C=1, gamma=scale, kernel=rbf; total time=   0.4s\n",
      "[CV] END .......................C=1, gamma=scale, kernel=rbf; total time=   0.4s\n",
      "[CV] END .......................C=1, gamma=scale, kernel=rbf; total time=   0.4s\n",
      "[CV] END .......................C=1, gamma=scale, kernel=rbf; total time=   0.4s\n",
      "[CV] END .......................C=1, gamma=scale, kernel=rbf; total time=   0.4s\n",
      "[CV] END .......................C=1, gamma=scale, kernel=rbf; total time=   0.4s\n",
      "[CV] END .......................C=1, gamma=scale, kernel=rbf; total time=   0.4s\n",
      "[CV] END .......................C=1, gamma=scale, kernel=rbf; total time=   0.4s\n",
      "[CV] END .......................C=1, gamma=scale, kernel=rbf; total time=   0.4s\n",
      "[CV] END ....................C=1, gamma=scale, kernel=linear; total time=  11.9s\n",
      "[CV] END ....................C=1, gamma=scale, kernel=linear; total time=  12.0s\n",
      "[CV] END ....................C=1, gamma=scale, kernel=linear; total time=  12.7s\n",
      "[CV] END ....................C=1, gamma=scale, kernel=linear; total time=  13.6s\n",
      "[CV] END ....................C=1, gamma=scale, kernel=linear; total time=  13.1s\n",
      "[CV] END ....................C=1, gamma=scale, kernel=linear; total time=  13.6s\n"
     ]
    }
   ],
   "source": [
    "from sklearn.model_selection import GridSearchCV\n",
    "import numpy as np\n",
    "\n",
    "param_grid = {\n",
    "    LinearRegression: {},\n",
    "    RandomForestRegressor: {'n_estimators': [50, 100, 200], 'max_features': ['auto', 'sqrt', 'log2']},\n",
    "    SVR: {'C': [0.1, 1, 10], 'gamma': ['scale', 'auto'], 'kernel': ['rbf', 'linear']},\n",
    "    KNeighborsRegressor: {'n_neighbors': [3, 5, 7], 'weights': ['uniform', 'distance']}\n",
    "}\n",
    "\n",
    "for model in model_list:\n",
    "    # Get the model name for display and fetching the right parameters\n",
    "    model_name = model.__class__.__name__\n",
    "    \n",
    "    # Setup GridSearchCV\n",
    "    grid_search = GridSearchCV(model, \n",
    "                               param_grid[model.__class__], \n",
    "                               cv=KFold(n_splits=10, shuffle=True, random_state=42), scoring='r2', verbose=2)\n",
    "    \n",
    "    # Perform grid search\n",
    "    grid_search.fit(X, y)\n",
    "    \n",
    "    # Display the best parameters and the mean R-squared of the best estimator\n",
    "    print(f\"Model: {model_name}\")\n",
    "    print(f\"Best parameters: {grid_search.best_params_}\")\n",
    "    print(f\"Best mean R-squared: {grid_search.best_score_}\\n\")\n"
   ]
  },
  {
   "cell_type": "markdown",
   "id": "94e18a62-125a-403d-8702-b42c7017ac45",
   "metadata": {
    "tags": []
   },
   "source": [
    "## Predicting New Data"
   ]
  },
  {
   "cell_type": "code",
   "execution_count": null,
   "id": "1be0dbe7-b024-439f-9cf4-de2c84a43b96",
   "metadata": {
    "tags": []
   },
   "outputs": [],
   "source": [
    "df_test.head()"
   ]
  },
  {
   "cell_type": "code",
   "execution_count": 52,
   "id": "fc069b65-e0e6-4421-b2b0-c5e0416b5bf4",
   "metadata": {
    "tags": []
   },
   "outputs": [],
   "source": [
    "X_test = scaler.transform(df_test)\n",
    "X_test_std = pd.DataFrame(X_test, columns=df_test.columns)"
   ]
  },
  {
   "cell_type": "code",
   "execution_count": 53,
   "id": "d56e4d49-b416-483d-ba6e-29f735c92c21",
   "metadata": {
    "tags": []
   },
   "outputs": [
    {
     "data": {
      "text/html": [
       "<div>\n",
       "<style scoped>\n",
       "    .dataframe tbody tr th:only-of-type {\n",
       "        vertical-align: middle;\n",
       "    }\n",
       "\n",
       "    .dataframe tbody tr th {\n",
       "        vertical-align: top;\n",
       "    }\n",
       "\n",
       "    .dataframe thead th {\n",
       "        text-align: right;\n",
       "    }\n",
       "</style>\n",
       "<table border=\"1\" class=\"dataframe\">\n",
       "  <thead>\n",
       "    <tr style=\"text-align: right;\">\n",
       "      <th></th>\n",
       "      <th>S</th>\n",
       "      <th>K</th>\n",
       "      <th>tau</th>\n",
       "      <th>r</th>\n",
       "    </tr>\n",
       "  </thead>\n",
       "  <tbody>\n",
       "    <tr>\n",
       "      <th>0</th>\n",
       "      <td>-0.309816</td>\n",
       "      <td>-0.262038</td>\n",
       "      <td>-0.872064</td>\n",
       "      <td>0.072267</td>\n",
       "    </tr>\n",
       "    <tr>\n",
       "      <th>1</th>\n",
       "      <td>1.415377</td>\n",
       "      <td>-1.565163</td>\n",
       "      <td>-0.054275</td>\n",
       "      <td>-1.042965</td>\n",
       "    </tr>\n",
       "    <tr>\n",
       "      <th>2</th>\n",
       "      <td>-0.304642</td>\n",
       "      <td>0.461920</td>\n",
       "      <td>-0.563912</td>\n",
       "      <td>0.295313</td>\n",
       "    </tr>\n",
       "    <tr>\n",
       "      <th>3</th>\n",
       "      <td>-0.336044</td>\n",
       "      <td>-0.696413</td>\n",
       "      <td>-0.978732</td>\n",
       "      <td>0.295313</td>\n",
       "    </tr>\n",
       "    <tr>\n",
       "      <th>4</th>\n",
       "      <td>1.210723</td>\n",
       "      <td>-0.406830</td>\n",
       "      <td>-0.575764</td>\n",
       "      <td>-1.042965</td>\n",
       "    </tr>\n",
       "    <tr>\n",
       "      <th>...</th>\n",
       "      <td>...</td>\n",
       "      <td>...</td>\n",
       "      <td>...</td>\n",
       "      <td>...</td>\n",
       "    </tr>\n",
       "    <tr>\n",
       "      <th>495</th>\n",
       "      <td>1.560258</td>\n",
       "      <td>-0.985997</td>\n",
       "      <td>-0.113535</td>\n",
       "      <td>-1.266011</td>\n",
       "    </tr>\n",
       "    <tr>\n",
       "      <th>496</th>\n",
       "      <td>-1.204261</td>\n",
       "      <td>0.751504</td>\n",
       "      <td>-0.291315</td>\n",
       "      <td>0.964453</td>\n",
       "    </tr>\n",
       "    <tr>\n",
       "      <th>497</th>\n",
       "      <td>-0.530171</td>\n",
       "      <td>0.230254</td>\n",
       "      <td>-0.741692</td>\n",
       "      <td>0.518360</td>\n",
       "    </tr>\n",
       "    <tr>\n",
       "      <th>498</th>\n",
       "      <td>0.176036</td>\n",
       "      <td>0.606712</td>\n",
       "      <td>0.585733</td>\n",
       "      <td>-0.150779</td>\n",
       "    </tr>\n",
       "    <tr>\n",
       "      <th>499</th>\n",
       "      <td>-2.888773</td>\n",
       "      <td>-1.565163</td>\n",
       "      <td>-0.386131</td>\n",
       "      <td>3.194917</td>\n",
       "    </tr>\n",
       "  </tbody>\n",
       "</table>\n",
       "<p>500 rows × 4 columns</p>\n",
       "</div>"
      ],
      "text/plain": [
       "            S         K       tau         r\n",
       "0   -0.309816 -0.262038 -0.872064  0.072267\n",
       "1    1.415377 -1.565163 -0.054275 -1.042965\n",
       "2   -0.304642  0.461920 -0.563912  0.295313\n",
       "3   -0.336044 -0.696413 -0.978732  0.295313\n",
       "4    1.210723 -0.406830 -0.575764 -1.042965\n",
       "..        ...       ...       ...       ...\n",
       "495  1.560258 -0.985997 -0.113535 -1.266011\n",
       "496 -1.204261  0.751504 -0.291315  0.964453\n",
       "497 -0.530171  0.230254 -0.741692  0.518360\n",
       "498  0.176036  0.606712  0.585733 -0.150779\n",
       "499 -2.888773 -1.565163 -0.386131  3.194917\n",
       "\n",
       "[500 rows x 4 columns]"
      ]
     },
     "execution_count": 53,
     "metadata": {},
     "output_type": "execute_result"
    }
   ],
   "source": [
    "X_test_std"
   ]
  },
  {
   "cell_type": "code",
   "execution_count": 54,
   "id": "e3bc3247-67fd-42fd-810b-707c09eaf949",
   "metadata": {
    "tags": []
   },
   "outputs": [],
   "source": [
    "model = RandomForestRegressor(n_estimators=100, random_state=42)\n",
    "model.fit(X, y)\n",
    "y_new_predictions = model.predict(X_test_std)"
   ]
  },
  {
   "cell_type": "code",
   "execution_count": 55,
   "id": "e70fe959-f51c-4208-8d54-cc362353b974",
   "metadata": {
    "tags": []
   },
   "outputs": [
    {
     "data": {
      "text/plain": [
       "array([551.825  , 566.81   , 551.825  , 551.825  , 566.81   , 566.81   ,\n",
       "       566.81   , 566.81   , 551.825  , 567.61375, 597.88   , 566.81   ,\n",
       "       551.825  , 566.81   , 597.98   , 606.0425 , 566.81   , 551.825  ,\n",
       "       551.825  , 551.825  , 566.81   , 551.825  , 566.81   , 567.265  ,\n",
       "       566.81   , 566.81   , 606.0425 , 566.81   , 566.81   , 566.81   ,\n",
       "       597.88   , 606.0425 , 566.81   , 551.825  , 606.0425 , 597.88   ,\n",
       "       551.825  , 551.825  , 551.825  , 566.81   , 566.285  , 551.825  ,\n",
       "       604.015  , 566.55375, 597.88   , 551.825  , 566.81   , 551.825  ,\n",
       "       566.81   , 551.825  , 606.0425 , 551.825  , 566.81   , 606.0425 ,\n",
       "       606.0425 , 566.81   , 551.825  , 551.825  , 597.20625, 566.81   ,\n",
       "       552.9725 , 551.825  , 551.825  , 566.81   , 566.81   , 566.81   ,\n",
       "       552.58125, 566.7025 , 551.825  , 551.825  , 551.825  , 551.825  ,\n",
       "       566.81   , 566.81   , 566.81   , 551.825  , 551.825  , 566.81   ,\n",
       "       551.825  , 551.825  , 551.825  , 565.85875, 566.81   , 566.81   ,\n",
       "       567.265  , 566.81   , 606.0425 , 606.0425 , 566.81   , 551.825  ,\n",
       "       566.81   , 551.825  , 551.825  , 606.0425 , 597.88   , 566.81   ,\n",
       "       606.0425 , 566.81   , 551.825  , 604.92375, 566.81   , 597.88   ,\n",
       "       551.825  , 566.81   , 551.825  , 551.825  , 597.88   , 566.81   ,\n",
       "       566.81   , 551.825  , 551.825  , 551.825  , 551.825  , 551.825  ,\n",
       "       566.81   , 566.81   , 597.20625, 551.825  , 566.81   , 597.88   ,\n",
       "       566.81   , 551.825  , 566.81   , 551.825  , 551.825  , 566.81   ,\n",
       "       606.0425 , 591.27625, 597.88   , 597.88   , 597.88   , 568.07125,\n",
       "       566.81   , 566.55375, 606.0425 , 551.825  , 597.88   , 567.0625 ,\n",
       "       551.825  , 606.0425 , 604.92375, 566.81   , 606.0425 , 551.825  ,\n",
       "       567.0625 , 566.81   , 551.825  , 551.825  , 597.88   , 566.81   ,\n",
       "       597.88   , 568.07125, 566.81   , 551.825  , 566.81   , 551.9525 ,\n",
       "       551.825  , 606.0425 , 566.81   , 566.81   , 551.825  , 566.81   ,\n",
       "       597.88   , 551.825  , 567.0625 , 597.88   , 566.81   , 566.55375,\n",
       "       597.20625, 566.81   , 566.81   , 566.81   , 566.81   , 566.81   ,\n",
       "       604.015  , 566.81   , 606.0425 , 551.825  , 597.88   , 606.0425 ,\n",
       "       551.825  , 551.825  , 571.08875, 551.825  , 597.98   , 566.81   ,\n",
       "       566.81   , 606.0425 , 566.81   , 551.825  , 566.81   , 566.81   ,\n",
       "       551.825  , 566.81   , 566.81   , 597.88   , 551.825  , 551.825  ,\n",
       "       551.825  , 566.81   , 551.825  , 597.88   , 551.825  , 566.81   ,\n",
       "       597.88   , 606.0425 , 551.825  , 551.825  , 566.81   , 566.81   ,\n",
       "       597.88   , 566.81   , 566.55375, 606.0425 , 566.81   , 566.81   ,\n",
       "       551.825  , 551.825  , 566.81   , 566.81   , 551.825  , 551.825  ,\n",
       "       566.81   , 566.81   , 551.825  , 551.825  , 596.90125, 551.825  ,\n",
       "       551.825  , 606.0425 , 551.825  , 566.81   , 551.825  , 551.825  ,\n",
       "       597.88   , 606.0425 , 551.825  , 551.825  , 566.81   , 566.81   ,\n",
       "       551.825  , 606.0425 , 597.88   , 566.81   , 551.825  , 551.825  ,\n",
       "       551.825  , 551.825  , 551.825  , 551.825  , 551.825  , 606.0425 ,\n",
       "       566.81   , 606.0425 , 566.81   , 566.81   , 566.81   , 604.09125,\n",
       "       566.81   , 566.81   , 606.0425 , 571.08875, 597.88   , 551.825  ,\n",
       "       566.81   , 551.825  , 566.81   , 566.81   , 597.88   , 551.825  ,\n",
       "       551.825  , 566.81   , 566.81   , 597.88   , 551.825  , 551.825  ,\n",
       "       604.92375, 551.825  , 566.65   , 551.825  , 566.81   , 566.81   ,\n",
       "       566.81   , 551.825  , 566.81   , 566.81   , 566.81   , 551.825  ,\n",
       "       566.81   , 551.825  , 551.825  , 551.825  , 551.825  , 566.81   ,\n",
       "       551.825  , 551.825  , 566.81   , 575.14   , 566.81   , 551.825  ,\n",
       "       566.7025 , 551.825  , 566.81   , 551.825  , 551.825  , 568.07125,\n",
       "       551.825  , 551.825  , 566.81   , 606.0425 , 606.0425 , 566.81   ,\n",
       "       597.88   , 606.0425 , 566.81   , 558.61375, 566.81   , 551.825  ,\n",
       "       566.81   , 566.81   , 551.825  , 566.81   , 551.825  , 551.825  ,\n",
       "       566.81   , 606.0425 , 551.93125, 597.20625, 606.0425 , 566.81   ,\n",
       "       597.88   , 597.88   , 597.88   , 551.825  , 566.81   , 551.825  ,\n",
       "       551.825  , 597.88   , 566.81   , 604.92375, 597.88   , 597.88   ,\n",
       "       566.81   , 551.825  , 551.825  , 551.825  , 551.825  , 551.825  ,\n",
       "       566.81   , 551.825  , 567.86875, 566.81   , 606.0425 , 597.88   ,\n",
       "       551.825  , 566.81   , 551.825  , 566.81   , 566.81   , 551.825  ,\n",
       "       566.81   , 566.81   , 551.825  , 551.825  , 551.825  , 551.825  ,\n",
       "       551.825  , 551.825  , 597.88   , 606.0425 , 606.0425 , 566.81   ,\n",
       "       566.81   , 597.88   , 566.55375, 597.88   , 551.825  , 551.825  ,\n",
       "       566.81   , 551.825  , 566.935  , 566.81   , 566.81   , 604.015  ,\n",
       "       597.88   , 597.88   , 566.81   , 551.825  , 566.81   , 551.825  ,\n",
       "       606.0425 , 566.81   , 566.81   , 566.81   , 551.825  , 551.825  ,\n",
       "       606.0425 , 566.81   , 566.81   , 566.81   , 566.81   , 566.81   ,\n",
       "       566.81   , 604.92375, 551.825  , 551.825  , 566.81   , 566.81   ,\n",
       "       606.0425 , 566.81   , 566.81   , 551.825  , 604.015  , 551.825  ,\n",
       "       551.825  , 566.81   , 596.825  , 606.0425 , 551.825  , 551.825  ,\n",
       "       566.81   , 551.825  , 606.0425 , 566.81   , 551.825  , 566.81   ,\n",
       "       566.7025 , 597.88   , 566.81   , 551.825  , 597.88   , 566.81   ,\n",
       "       597.88   , 551.825  , 551.825  , 575.14   , 566.81   , 597.88   ,\n",
       "       551.825  , 566.81   , 566.81   , 551.825  , 606.0425 , 566.81   ,\n",
       "       566.81   , 597.88   , 604.92375, 597.88   , 566.81   , 551.825  ,\n",
       "       596.825  , 551.825  , 567.265  , 551.825  , 606.0425 , 597.88   ,\n",
       "       551.825  , 566.81   , 606.0425 , 566.81   , 566.81   , 566.81   ,\n",
       "       566.81   , 597.88   , 606.0425 , 551.825  , 551.825  , 566.81   ,\n",
       "       551.825  , 551.825  , 566.81   , 551.825  , 566.81   , 597.88   ,\n",
       "       597.88   , 566.81   , 551.825  , 566.81   , 566.81   , 551.825  ,\n",
       "       566.81   , 566.81   , 566.81   , 552.58125, 551.825  , 551.825  ,\n",
       "       566.81   , 596.825  , 551.825  , 551.825  , 566.81   , 566.81   ,\n",
       "       597.88   , 566.81   , 551.825  , 566.81   , 551.825  , 551.825  ,\n",
       "       597.98   , 551.825  ])"
      ]
     },
     "execution_count": 55,
     "metadata": {},
     "output_type": "execute_result"
    }
   ],
   "source": [
    "y_new_predictions"
   ]
  },
  {
   "cell_type": "markdown",
   "id": "d20155fb-7ec9-412d-9ac6-0db5b019aebe",
   "metadata": {},
   "source": [
    "# Classification Modeling using CV"
   ]
  },
  {
   "cell_type": "markdown",
   "id": "7327a4e6-d06b-4471-aecc-e6e941f3d5a1",
   "metadata": {},
   "source": [
    "## Modeling"
   ]
  },
  {
   "cell_type": "code",
   "execution_count": 62,
   "id": "e13db45b-be47-4739-95eb-3e28376d57d8",
   "metadata": {
    "tags": []
   },
   "outputs": [
    {
     "data": {
      "text/plain": [
       "0       Under\n",
       "1       Under\n",
       "2       Under\n",
       "3        Over\n",
       "4       Under\n",
       "        ...  \n",
       "4995    Under\n",
       "4996     Over\n",
       "4997    Under\n",
       "4998    Under\n",
       "4999    Under\n",
       "Name: BS, Length: 5000, dtype: object"
      ]
     },
     "execution_count": 62,
     "metadata": {},
     "output_type": "execute_result"
    }
   ],
   "source": [
    "y_class = df_train['BS']\n",
    "y_class"
   ]
  },
  {
   "cell_type": "code",
   "execution_count": 64,
   "id": "22de3fd1-6565-4269-af88-8ab5bd0a013d",
   "metadata": {
    "tags": []
   },
   "outputs": [
    {
     "name": "stdout",
     "output_type": "stream",
     "text": [
      "Model: LogisticRegression(max_iter=200, multi_class='multinomial')\n",
      "Mean Classification Error: 0.1226\n",
      "\n",
      "Model: RandomForestClassifier(random_state=42)\n",
      "Mean Classification Error: 0.0636\n",
      "\n",
      "Model: SVC()\n",
      "Mean Classification Error: 0.158\n",
      "\n",
      "Model: KNeighborsClassifier()\n",
      "Mean Classification Error: 0.1476\n",
      "\n"
     ]
    }
   ],
   "source": [
    "from sklearn.model_selection import StratifiedKFold, cross_val_score\n",
    "# from sklearn.linear_model import LogisticRegression\n",
    "from sklearn.ensemble import RandomForestClassifier\n",
    "from sklearn.svm import SVC\n",
    "from sklearn.neighbors import KNeighborsClassifier\n",
    "\n",
    "model_list = [LogisticRegression(max_iter=200, multi_class='multinomial'),\n",
    "              RandomForestClassifier(n_estimators=100, random_state=42), \n",
    "              SVC(kernel='rbf'),\n",
    "              KNeighborsClassifier(n_neighbors=5)\n",
    "             ]\n",
    "\n",
    "for model in model_list:\n",
    "    \n",
    "    # Initialize the linear regression model\n",
    "    model = model\n",
    "\n",
    "    # Setup cross-validation (using 10 folds here)\n",
    "    kf = StratifiedKFold(n_splits=10, shuffle=True, random_state=42)\n",
    "\n",
    "    # Perform cross-validation using accuracy as the metric\n",
    "    accuracy = cross_val_score(model, X, y_class, cv=kf, scoring='accuracy')\n",
    "\n",
    "    # Display the accuracy scores\n",
    "    print(f\"Model: {model}\")\n",
    "    print(f\"Mean Classification Error: {np.mean(1-accuracy)}\\n\")\n"
   ]
  }
 ],
 "metadata": {
  "kernelspec": {
   "display_name": "Python 3 (ipykernel)",
   "language": "python",
   "name": "python3"
  },
  "language_info": {
   "codemirror_mode": {
    "name": "ipython",
    "version": 3
   },
   "file_extension": ".py",
   "mimetype": "text/x-python",
   "name": "python",
   "nbconvert_exporter": "python",
   "pygments_lexer": "ipython3",
   "version": "3.11.4"
  }
 },
 "nbformat": 4,
 "nbformat_minor": 5
}
